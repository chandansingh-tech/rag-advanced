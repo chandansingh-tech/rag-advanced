{
  "cells": [
    {
      "cell_type": "markdown",
      "metadata": {
        "id": "IiTAi0DICUTh"
      },
      "source": [
        "# Chapter 4\n",
        "\n",
        "<a target=\"_blank\" href=\"https://colab.research.google.com/github/wandb/edu/blob/main/rag-advanced/notebooks/Chapter04.ipynb\">\n",
        "  <img src=\"https://colab.research.google.com/assets/colab-badge.svg\" alt=\"Open In Colab\"/>\n",
        "</a>\n",
        "\n",
        "<!--- @wandbcode{rag-course-04} -->\n",
        "\n",
        "## Query Enhancement\n",
        "\n",
        "Query enhancement is an intermediate step that uses LLMs to improve the quality of user queries. This can include:\n",
        "- Making queries grammatically correct\n",
        "- Breaking down complex queries into sub-queries\n",
        "- Extracting query intent\n",
        "- Augmenting queries with chat history\n",
        "- Extracting relevant keywords\n",
        "\n",
        "By working through this notebook, you will:\n",
        "\n",
        "1. Implement a Query Enhancement module that performs:\n",
        "   - Language identification\n",
        "   - Intent classification\n",
        "   - Sub-query generation\n",
        "\n",
        "2. Integrate it into a RAG pipeline\n",
        "3. Compare and evaluate its impact against a baseline RAG system\n",
        "\n",
        "This hands-on experience will deepen your understanding of advanced RAG concepts and prepare you to implement these techniques in your own projects.\n",
        "\n",
        "Let's begin by setting up our environment and importing the necessary libraries."
      ]
    },
    {
      "cell_type": "markdown",
      "metadata": {
        "id": "guJaryVMCUTj"
      },
      "source": [
        "To begin, execute the following cell to clone the repository and install dependencies:"
      ]
    },
    {
      "cell_type": "code",
      "execution_count": 1,
      "metadata": {
        "id": "grsTi83WCUTl",
        "outputId": "13a614f9-0c09-432b-9b27-90594e5eb63f",
        "colab": {
          "base_uri": "https://localhost:8080/"
        }
      },
      "outputs": [
        {
          "output_type": "stream",
          "name": "stdout",
          "text": [
            "Cloning into 'edu'...\n",
            "remote: Enumerating objects: 4807, done.\u001b[K\n",
            "remote: Counting objects: 100% (1206/1206), done.\u001b[K\n",
            "remote: Compressing objects: 100% (395/395), done.\u001b[K\n",
            "remote: Total 4807 (delta 1011), reused 818 (delta 811), pack-reused 3601 (from 2)\u001b[K\n",
            "Receiving objects: 100% (4807/4807), 41.92 MiB | 10.84 MiB/s, done.\n",
            "Resolving deltas: 100% (2635/2635), done.\n",
            "/content/edu/rag-advanced\n",
            "\u001b[2K     \u001b[90m━━━━━━━━━━━━━━━━━━━━━━━━━━━━━━━━━━━━━━━━\u001b[0m \u001b[32m62.0/62.0 kB\u001b[0m \u001b[31m3.0 MB/s\u001b[0m eta \u001b[36m0:00:00\u001b[0m\n",
            "\u001b[?25h  Preparing metadata (setup.py) ... \u001b[?25l\u001b[?25hdone\n",
            "  Preparing metadata (setup.py) ... \u001b[?25l\u001b[?25hdone\n",
            "\u001b[2K     \u001b[90m━━━━━━━━━━━━━━━━━━━━━━━━━━━━━━━━━━━━━━━━\u001b[0m \u001b[32m73.4/73.4 kB\u001b[0m \u001b[31m5.4 MB/s\u001b[0m eta \u001b[36m0:00:00\u001b[0m\n",
            "\u001b[?25h  Installing build dependencies ... \u001b[?25l\u001b[?25hdone\n",
            "  Getting requirements to build wheel ... \u001b[?25l\u001b[?25hdone\n",
            "  Preparing metadata (pyproject.toml) ... \u001b[?25l\u001b[?25hdone\n",
            "  Preparing metadata (setup.py) ... \u001b[?25l\u001b[?25hdone\n",
            "  Preparing metadata (setup.py) ... \u001b[?25l\u001b[?25hdone\n",
            "\u001b[2K   \u001b[90m━━━━━━━━━━━━━━━━━━━━━━━━━━━━━━━━━━━━━━━━\u001b[0m \u001b[32m342.6/342.6 kB\u001b[0m \u001b[31m6.4 MB/s\u001b[0m eta \u001b[36m0:00:00\u001b[0m\n",
            "\u001b[2K   \u001b[90m━━━━━━━━━━━━━━━━━━━━━━━━━━━━━━━━━━━━━━━━\u001b[0m \u001b[32m251.7/251.7 kB\u001b[0m \u001b[31m6.2 MB/s\u001b[0m eta \u001b[36m0:00:00\u001b[0m\n",
            "\u001b[2K   \u001b[90m━━━━━━━━━━━━━━━━━━━━━━━━━━━━━━━━━━━━━━━━\u001b[0m \u001b[32m162.7/162.7 kB\u001b[0m \u001b[31m5.3 MB/s\u001b[0m eta \u001b[36m0:00:00\u001b[0m\n",
            "\u001b[2K   \u001b[90m━━━━━━━━━━━━━━━━━━━━━━━━━━━━━━━━━━━━━━━━\u001b[0m \u001b[32m264.3/264.3 kB\u001b[0m \u001b[31m6.1 MB/s\u001b[0m eta \u001b[36m0:00:00\u001b[0m\n",
            "\u001b[2K   \u001b[90m━━━━━━━━━━━━━━━━━━━━━━━━━━━━━━━━━━━━━━━━\u001b[0m \u001b[32m99.3/99.3 kB\u001b[0m \u001b[31m5.4 MB/s\u001b[0m eta \u001b[36m0:00:00\u001b[0m\n",
            "\u001b[2K   \u001b[90m━━━━━━━━━━━━━━━━━━━━━━━━━━━━━━━━━━━━━━━━\u001b[0m \u001b[32m53.6/53.6 kB\u001b[0m \u001b[31m3.8 MB/s\u001b[0m eta \u001b[36m0:00:00\u001b[0m\n",
            "\u001b[2K   \u001b[90m━━━━━━━━━━━━━━━━━━━━━━━━━━━━━━━━━━━━━━━━\u001b[0m \u001b[32m669.3/669.3 kB\u001b[0m \u001b[31m7.5 MB/s\u001b[0m eta \u001b[36m0:00:00\u001b[0m\n",
            "\u001b[2K   \u001b[90m━━━━━━━━━━━━━━━━━━━━━━━━━━━━━━━━━━━━━━━━\u001b[0m \u001b[32m40.6/40.6 MB\u001b[0m \u001b[31m8.3 MB/s\u001b[0m eta \u001b[36m0:00:00\u001b[0m\n",
            "\u001b[2K   \u001b[90m━━━━━━━━━━━━━━━━━━━━━━━━━━━━━━━━━━━━━━━━\u001b[0m \u001b[32m1.2/1.2 MB\u001b[0m \u001b[31m7.7 MB/s\u001b[0m eta \u001b[36m0:00:00\u001b[0m\n",
            "\u001b[2K   \u001b[90m━━━━━━━━━━━━━━━━━━━━━━━━━━━━━━━━━━━━━━━━\u001b[0m \u001b[32m590.6/590.6 kB\u001b[0m \u001b[31m7.4 MB/s\u001b[0m eta \u001b[36m0:00:00\u001b[0m\n",
            "\u001b[2K   \u001b[90m━━━━━━━━━━━━━━━━━━━━━━━━━━━━━━━━━━━━━━━━\u001b[0m \u001b[32m3.3/3.3 MB\u001b[0m \u001b[31m5.8 MB/s\u001b[0m eta \u001b[36m0:00:00\u001b[0m\n",
            "\u001b[2K   \u001b[90m━━━━━━━━━━━━━━━━━━━━━━━━━━━━━━━━━━━━━━━━\u001b[0m \u001b[32m3.1/3.1 MB\u001b[0m \u001b[31m3.1 MB/s\u001b[0m eta \u001b[36m0:00:00\u001b[0m\n",
            "\u001b[2K   \u001b[90m━━━━━━━━━━━━━━━━━━━━━━━━━━━━━━━━━━━━━━━━\u001b[0m \u001b[32m325.8/325.8 kB\u001b[0m \u001b[31m4.0 MB/s\u001b[0m eta \u001b[36m0:00:00\u001b[0m\n",
            "\u001b[2K   \u001b[90m━━━━━━━━━━━━━━━━━━━━━━━━━━━━━━━━━━━━━━━━\u001b[0m \u001b[32m249.2/249.2 kB\u001b[0m \u001b[31m4.7 MB/s\u001b[0m eta \u001b[36m0:00:00\u001b[0m\n",
            "\u001b[2K   \u001b[90m━━━━━━━━━━━━━━━━━━━━━━━━━━━━━━━━━━━━━━━━\u001b[0m \u001b[32m1.8/1.8 MB\u001b[0m \u001b[31m2.4 MB/s\u001b[0m eta \u001b[36m0:00:00\u001b[0m\n",
            "\u001b[2K   \u001b[90m━━━━━━━━━━━━━━━━━━━━━━━━━━━━━━━━━━━━━━━━\u001b[0m \u001b[32m347.9/347.9 kB\u001b[0m \u001b[31m2.0 MB/s\u001b[0m eta \u001b[36m0:00:00\u001b[0m\n",
            "\u001b[2K   \u001b[90m━━━━━━━━━━━━━━━━━━━━━━━━━━━━━━━━━━━━━━━━\u001b[0m \u001b[32m1.3/1.3 MB\u001b[0m \u001b[31m2.7 MB/s\u001b[0m eta \u001b[36m0:00:00\u001b[0m\n",
            "\u001b[2K   \u001b[90m━━━━━━━━━━━━━━━━━━━━━━━━━━━━━━━━━━━━━━━━\u001b[0m \u001b[32m2.4/2.4 MB\u001b[0m \u001b[31m4.7 MB/s\u001b[0m eta \u001b[36m0:00:00\u001b[0m\n",
            "\u001b[2K   \u001b[90m━━━━━━━━━━━━━━━━━━━━━━━━━━━━━━━━━━━━━━━━\u001b[0m \u001b[32m203.2/203.2 kB\u001b[0m \u001b[31m3.2 MB/s\u001b[0m eta \u001b[36m0:00:00\u001b[0m\n",
            "\u001b[2K   \u001b[90m━━━━━━━━━━━━━━━━━━━━━━━━━━━━━━━━━━━━━━━━\u001b[0m \u001b[32m119.2/119.2 kB\u001b[0m \u001b[31m3.0 MB/s\u001b[0m eta \u001b[36m0:00:00\u001b[0m\n",
            "\u001b[2K   \u001b[90m━━━━━━━━━━━━━━━━━━━━━━━━━━━━━━━━━━━━━━━━\u001b[0m \u001b[32m45.4/45.4 kB\u001b[0m \u001b[31m2.4 MB/s\u001b[0m eta \u001b[36m0:00:00\u001b[0m\n",
            "\u001b[2K   \u001b[90m━━━━━━━━━━━━━━━━━━━━━━━━━━━━━━━━━━━━━━━━\u001b[0m \u001b[32m74.0/74.0 kB\u001b[0m \u001b[31m2.4 MB/s\u001b[0m eta \u001b[36m0:00:00\u001b[0m\n",
            "\u001b[?25h  Building wheel for fasttext-langdetect (setup.py) ... \u001b[?25l\u001b[?25hdone\n",
            "  Building wheel for syncer (setup.py) ... \u001b[?25l\u001b[?25hdone\n",
            "  Building wheel for fasttext (pyproject.toml) ... \u001b[?25l\u001b[?25hdone\n",
            "  Building wheel for warc3-wet-clueweb09 (setup.py) ... \u001b[?25l\u001b[?25hdone\n",
            "  Building wheel for cbor (setup.py) ... \u001b[?25l\u001b[?25hdone\n",
            "\u001b[31mERROR: pip's dependency resolver does not currently take into account all the packages that are installed. This behaviour is the source of the following dependency conflicts.\n",
            "gensim 4.3.3 requires scipy<1.14.0,>=1.7.0, but you have scipy 1.15.1 which is incompatible.\u001b[0m\u001b[31m\n",
            "\u001b[0m/content/edu/rag-advanced/notebooks\n"
          ]
        },
        {
          "output_type": "stream",
          "name": "stderr",
          "text": [
            "[nltk_data] Downloading package wordnet to /root/nltk_data...\n",
            "[nltk_data] Downloading package punkt to /root/nltk_data...\n",
            "[nltk_data]   Unzipping tokenizers/punkt.zip.\n"
          ]
        },
        {
          "output_type": "execute_result",
          "data": {
            "text/plain": [
              "True"
            ]
          },
          "metadata": {},
          "execution_count": 1
        }
      ],
      "source": [
        "!git clone https://github.com/wandb/edu.git\n",
        "%cd edu/rag-advanced\n",
        "!pip install -qqq -r requirements.txt\n",
        "%cd notebooks\n",
        "\n",
        "import nltk\n",
        "\n",
        "nltk.download(\"wordnet\")\n",
        "nltk.download(\"punkt\")"
      ]
    },
    {
      "cell_type": "markdown",
      "metadata": {
        "id": "siZm22nRCUTm"
      },
      "source": [
        "With the setup complete, we can now proceed with the chapter content.\n",
        "\n",
        "Initial steps:\n",
        "1. Log in to Weights & Biases (W&B)\n",
        "2. Configure environment variables for API access\n",
        "\n",
        "To obtain your Cohere API key, visit the [Cohere API dashboard](https://dashboard.cohere.com/api-keys)."
      ]
    },
    {
      "cell_type": "code",
      "execution_count": null,
      "metadata": {
        "id": "4q10wQXjCUTn"
      },
      "outputs": [],
      "source": [
        "import getpass\n",
        "import os\n",
        "\n",
        "os.environ[\"COHERE_API_KEY\"] = getpass.getpass(\"Please enter your COHERE_API_KEY\")"
      ]
    },
    {
      "cell_type": "code",
      "execution_count": null,
      "metadata": {
        "id": "Hca7rFGMCUTn"
      },
      "outputs": [],
      "source": [
        "import asyncio\n",
        "\n",
        "import nest_asyncio\n",
        "\n",
        "nest_asyncio.apply()\n",
        "\n",
        "import cohere\n",
        "import weave\n",
        "from IPython.display import Markdown"
      ]
    },
    {
      "cell_type": "code",
      "execution_count": null,
      "metadata": {
        "id": "OUpgI-kWCUTo"
      },
      "outputs": [],
      "source": [
        "WANDB_PROJECT = \"rag-course\"\n",
        "\n",
        "weave_client = weave.init(WANDB_PROJECT)"
      ]
    },
    {
      "cell_type": "markdown",
      "metadata": {
        "id": "g7GvDbFDCUTp"
      },
      "source": [
        "## Data Loading\n",
        "\n",
        "We'll start by loading the semantically chunked data from Chapter 3. As a reminder, semantic chunking is an technique that groups related sentences together, preserving context and improving retrieval relevance.\n",
        "\n",
        "This chunked data will serve as the input for the knowledge base for our RAG pipeline, allowing us to compare the effectiveness of our query enhancement techniques against a baseline system.\n",
        "\n",
        "Let's load the data and take a look at the first few chunks:"
      ]
    },
    {
      "cell_type": "code",
      "execution_count": null,
      "metadata": {
        "id": "AMeGnI8MCUTp"
      },
      "outputs": [],
      "source": [
        "# Reload the data from Chapter 3\n",
        "chunked_data = weave.ref(\n",
        "    \"weave:///rag-course/rag-course/object/chunked_data:Ij9KThmiZQ9ljpCm8rVXTJlCaAbY2qC0zX6UJkBWHQ0\"\n",
        ").get()\n",
        "# uncomment the next line to get the chunked data from weave from your own project instead\n",
        "# chunked_data = weave.ref(\"chunked_data:latest\").get()\n",
        "\n",
        "print(chunked_data.rows[:2])\n",
        "\n",
        "chunked_data = list(map(dict, chunked_data.rows[:]))"
      ]
    },
    {
      "cell_type": "markdown",
      "metadata": {
        "id": "EslGHLs2CUTq"
      },
      "source": [
        "## Query Enhancement\n",
        "\n",
        "In this section, we'll implement a query enhancement stage that improves our RAG pipeline. Our `QueryEnhancer` will perform three key tasks:\n",
        "\n",
        "1. **Language Identification**: Detect whether the query is in English, Japanese, or Korean. This allows us to provide responses in the user's preferred language, enhancing the user experience.\n",
        "\n",
        "2. **Intent Classification**: Determine if the query is relevant to our documentation. This helps filter out off-topic questions and allows for more appropriate responses.\n",
        "\n",
        "3. **Sub-query Generation**: Break down complex queries into smaller, more focused sub-queries. This improves retrieval by capturing different aspects of the original question.\n",
        "\n",
        "These enhancements serve two primary purposes:\n",
        "- Inform the response generator, allowing it to tailor its output based on language and intent.\n",
        "- Improve the retrieval process by using more targeted sub-queries.\n",
        "\n",
        "Let's implement our `QueryEnhancer` and see it in action:"
      ]
    },
    {
      "cell_type": "code",
      "execution_count": null,
      "metadata": {
        "id": "VVBOyBanCUTq"
      },
      "outputs": [],
      "source": [
        "from scripts.query_enhancer import QueryEnhancer\n",
        "from scripts.utils import display_source\n",
        "\n",
        "query_enhancer = QueryEnhancer()"
      ]
    },
    {
      "cell_type": "markdown",
      "metadata": {
        "id": "gP8g5x8rCUTr"
      },
      "source": [
        "## Analyzing Query Enhancement Results\n",
        "\n",
        "Let's examine the output of our `QueryEnhancer` for the input: \"How do I log images in lightning with wandb?\""
      ]
    },
    {
      "cell_type": "code",
      "execution_count": null,
      "metadata": {
        "id": "3BzyG8IrCUTr"
      },
      "outputs": [],
      "source": [
        "response = await query_enhancer.predict(\"How do I log images in lightning with wandb?\")\n",
        "response"
      ]
    },
    {
      "cell_type": "markdown",
      "metadata": {
        "id": "9q-fSRDpCUTr"
      },
      "source": [
        "Our `QueryEnhancer` has provided three key pieces of information:\n",
        "\n",
        "1. **Language Detection**: The query is identified as English ('en'). This allows our system to respond in the appropriate language.\n",
        "\n",
        "2. **Sub-query Generation**: The original query is broken down into more specific sub-queries:\n",
        "   - \"How to log images in lightning with wandb\"\n",
        "   - \"How to log images in lightning\"\n",
        "   - \"Log images wandb\"\n",
        "   - \"Wandb image logging\"\n",
        "   - \"Log images in lightning\"\n",
        "   \n",
        "   These sub-queries help capture different aspects of the original question, potentially improving retrieval accuracy.\n",
        "\n",
        "3. **Intent Classification**: The query is classified under the \"integrations\" intent. This suggests the user is asking about a specific integration between Lightning and Weights & Biases.\n",
        "\n",
        "By leveraging this enhanced query information, our RAG system can now perform more targeted retrieval and generate more relevant, context-aware responses."
      ]
    },
    {
      "cell_type": "markdown",
      "metadata": {
        "id": "k0RSDwZ0CUTs"
      },
      "source": [
        "## Retriever: Leveraging BM25 from Previous Chapter\n",
        "\n",
        "In our previous chapter, we explored the BM25 (Best Matching 25) retriever as an improvement over the basic TF-IDF approach. BM25 offers more nuanced rankings by incorporating document length normalization and term frequency saturation.\n",
        "\n",
        "For this notebook, we'll continue using the same BM25 retriever. This consistency serves two important purposes:\n",
        "\n",
        "1. **Fair Comparison**: By keeping the retriever constant, we can isolate the impact of our query enhancement techniques. This allows for a direct comparison between the QueryEnhancedRAGPipeline and the SimpleRAGPipeline.\n",
        "\n",
        "2. **Leveraging Sub-queries**: Our new query-enhanced pipeline can take advantage of the sub-queries generated by the QueryEnhancer. We'll use these sub-queries to retrieve multiple context snippets, potentially providing more comprehensive information to the LLM.\n",
        "\n",
        "Let's set up our BM25 retriever with the chunked data:"
      ]
    },
    {
      "cell_type": "code",
      "execution_count": null,
      "metadata": {
        "id": "3suW15e2CUTs"
      },
      "outputs": [],
      "source": [
        "from scripts.retriever import BM25Retriever\n",
        "\n",
        "retriever = BM25Retriever()\n",
        "retriever.index_data(chunked_data)"
      ]
    },
    {
      "cell_type": "markdown",
      "metadata": {
        "id": "l-1U6i28CUTs"
      },
      "source": [
        "## Query-Enhanced Response Generation\n",
        "\n",
        "With the additional information extracted from our query - specifically the language and intent - we can now create a more sophisticated response generator. The `QueryEnhancedResponseGenerator` class leverages this enriched context to produce more tailored and relevant responses.\n",
        "\n",
        "Key Enhancements:\n",
        "1. **Language-Aware Responses**: By incorporating the detected language, we can adjust the response style and potentially use language-specific resources or examples.\n",
        "\n",
        "2. **Intent-Driven Generation**: The classified intent helps the model understand the user's goal, allowing for more focused and appropriate responses.\n",
        "\n",
        "3. **Dynamic Prompt Engineering**: The system prompt is dynamically formatted with language and intent information, guiding the LLM's response generation process.\n",
        "\n",
        "Let's examine the `QueryEnhancedResponseGenerator` class, paying special attention to how it utilizes the enhanced query information:"
      ]
    },
    {
      "cell_type": "code",
      "execution_count": null,
      "metadata": {
        "id": "bgkMlttqCUTs"
      },
      "outputs": [],
      "source": [
        "from scripts.response_generator import QueryEnhanedResponseGenerator\n",
        "\n",
        "display_source(QueryEnhanedResponseGenerator)"
      ]
    },
    {
      "cell_type": "markdown",
      "metadata": {
        "id": "hWOZL5oLCUTt"
      },
      "source": [
        "Note line 29 in the source code above. Here, we format the system prompt with the detected language and intents. This crucial step allows us to dynamically adapt our instructions to the LLM based on the specific query context.\n",
        "\n",
        "By integrating these query enhancements into our response generation process, we create a more context-aware and adaptive RAG system. This approach should lead to more relevant, accurate, and tailored responses compared to our baseline system."
      ]
    },
    {
      "cell_type": "markdown",
      "metadata": {
        "id": "Ycg_nvKuCUTt"
      },
      "source": [
        "Building on our enhanced response generation, let's examine how these improvements are integrated into our overall RAG pipeline:\n",
        "\n",
        "## Query-Enhanced RAG Pipeline\n",
        "\n",
        "The `QueryEnhancedRAGPipeline` takes full advantage of our query enhancements, creating a more sophisticated and context-aware retrieval and generation process. Let's explore its key features:\n",
        "\n",
        "1. **Multi-Query Retrieval**: The pipeline leverages the sub-queries generated by our `QueryEnhancer` to perform multiple retrieval operations. This broadens the scope of relevant information retrieved.\n",
        "\n",
        "2. **Context Deduplication**: To optimize the input to our LLM, the pipeline deduplicates the retrieved chunks. This ensures we don't waste tokens on repetitive information.\n",
        "\n",
        "3. **Intent-Based Flow Control**: The pipeline includes a crucial safety check based on the query's intent:\n",
        "\n",
        "   ```python\n",
        "   avoid_intents = [\"unrelated\", \"needs_more_info\", \"opinion_request\", \"nefarious_query\", \"other\"]\n",
        "   \n",
        "   for intent in intents:\n",
        "       if intent[\"intent\"] in avoid_intents:\n",
        "           avoid_retrieval = True\n",
        "           break\n",
        "   ```\n",
        "\n",
        "If the query's intent matches any in the `avoid_intents` list, the pipeline bypasses retrieval. This allows us to handle off-topic or inappropriate queries with pre-defined responses, enhancing the system's robustness and safety.\n",
        "\n",
        "By integrating these features, our `QueryEnhancedRAGPipeline` creates a more flexible, efficient, and context-aware system compared to traditional RAG approaches. This should result in more relevant and appropriate responses across a wider range of query types."
      ]
    },
    {
      "cell_type": "code",
      "execution_count": null,
      "metadata": {
        "id": "tcNzbD-YCUTt"
      },
      "outputs": [],
      "source": [
        "from scripts.rag_pipeline import QueryEnhancedRAGPipeline\n",
        "\n",
        "display_source(QueryEnhancedRAGPipeline)"
      ]
    },
    {
      "cell_type": "markdown",
      "metadata": {
        "id": "BfGfwEziCUTt"
      },
      "source": [
        "## Putting It All Together: Initializing and Testing Our Enhanced RAG System\n",
        "\n",
        "Now that we've examined the components of our query-enhanced RAG system, let's bring everything together. We'll initialize the response generator with our new prompt, set up the complete RAG pipeline, and test it with a sample query. This will demonstrate how all the enhancements we've discussed work in concert to produce more relevant and context-aware responses.\n",
        "\n",
        "Let's proceed step-by-step:"
      ]
    },
    {
      "cell_type": "code",
      "execution_count": null,
      "metadata": {
        "id": "5rgwxtSFCUTu"
      },
      "outputs": [],
      "source": [
        "# lets add the new prompt\n",
        "QUERY_ENHANCED_PROMPT = open(\"prompts/query_enhanced_system.txt\").read()\n",
        "\n",
        "response_generator = QueryEnhanedResponseGenerator(\n",
        "    model=\"command-r\", prompt=QUERY_ENHANCED_PROMPT, client=cohere.AsyncClientV2()\n",
        ")"
      ]
    },
    {
      "cell_type": "code",
      "execution_count": null,
      "metadata": {
        "id": "RFwKugLnCUTu"
      },
      "outputs": [],
      "source": [
        "query_enhanced_rag_pipeline = QueryEnhancedRAGPipeline(\n",
        "    query_enhancer=query_enhancer,\n",
        "    retriever=retriever,\n",
        "    response_generator=response_generator,\n",
        "    top_k=2,\n",
        ")\n",
        "\n",
        "response = await query_enhanced_rag_pipeline.predict(\n",
        "    \"How do I log images in lightning with wandb?\"\n",
        ")\n",
        "\n",
        "\n",
        "Markdown(response)"
      ]
    },
    {
      "cell_type": "markdown",
      "metadata": {
        "id": "ZLbUkWU2CUTu"
      },
      "source": [
        "## Evaluate and Compare"
      ]
    },
    {
      "cell_type": "markdown",
      "metadata": {
        "id": "feZFNAaFCUTu"
      },
      "source": [
        "## Evaluating Query Enhancement: Comparing Performance\n",
        "\n",
        "Now that we've implemented our query-enhanced RAG system, it's crucial to quantify its performance improvements over our baseline. This evaluation will help us understand the impact of query enhancement on the overall RAG pipeline.\n",
        "\n",
        "In this section, we'll:\n",
        "\n",
        "1. Use the evaluation dataset from previous chapters to ensure consistency in our comparisons.\n",
        "2. Focus on response quality metrics, as both systems use the same BM25 retriever.\n",
        "3. Employ LLM-based metrics to assess the quality and relevance of generated responses.\n",
        "4. Compare the performance of our QueryEnhancedRAGPipeline against the SimpleRAGPipeline.\n",
        "\n",
        "By conducting this evaluation, we aim to answer key questions such as:\n",
        "- Does query enhancement lead to more accurate and relevant responses?\n",
        "- How does the system perform with different types of queries (e.g., simple vs. complex)?\n",
        "- Are there specific areas where query enhancement shines or falls short?\n",
        "\n",
        "We'll use Weave Evaluations to streamline our assessment process and visualize the results, providing clear insights into the effectiveness of our query enhancement techniques.\n",
        "\n",
        "Let's begin by setting up our evaluation framework:"
      ]
    },
    {
      "cell_type": "code",
      "execution_count": null,
      "metadata": {
        "id": "zPWEEXAUCUTu"
      },
      "outputs": [],
      "source": [
        "eval_dataset = weave.ref(\n",
        "    \"weave:///rag-course/dev/object/Dataset:Qj4IFICc2EbdXu5A5UuhkPiWgxM1GvJMIvXEyv1DYnM\"\n",
        ").get()\n",
        "\n",
        "print(eval_dataset.rows[:2])"
      ]
    },
    {
      "cell_type": "code",
      "execution_count": null,
      "metadata": {
        "id": "qxbjzvdtCUTv"
      },
      "outputs": [],
      "source": [
        "# Let also initialize the baseline RAG pipeline from chapter 3\n",
        "\n",
        "from scripts.rag_pipeline import SimpleRAGPipeline\n",
        "from scripts.response_generator import SimpleResponseGenerator\n",
        "\n",
        "INITIAL_PROMPT = open(\"prompts/initial_system.txt\", \"r\").read()\n",
        "response_generator = SimpleResponseGenerator(model=\"command-r\", prompt=INITIAL_PROMPT)\n",
        "simple_rag_pipeline = SimpleRAGPipeline(\n",
        "    retriever=retriever, response_generator=response_generator, top_k=5\n",
        ")"
      ]
    },
    {
      "cell_type": "markdown",
      "metadata": {
        "id": "i4VhDigdCUTv"
      },
      "source": [
        "In this evaluation, we're primarily interested in assessing the overall response quality rather than individual retrieval metrics. Here's why:\n",
        "\n",
        "1. **Common Retriever**: Both pipelines use the same BM25 retriever, making retrieval metric comparisons less informative.\n",
        "\n",
        "2. **Enhanced Retrieval Process**: The query-enhanced pipeline retrieves more chunks due to its use of sub-queries, making direct retrieval comparisons potentially misleading.\n",
        "\n",
        "3. **Holistic Evaluation**: Our goal is to understand the end-to-end performance improvement, which is best captured by analyzing the final output quality.\n",
        "\n",
        "To achieve this, we'll employ LLM-based metrics from chapte 2 to evaluate response quality. These metrics provide a more nuanced and context-aware assessment of the generated answers, allowing us to:\n",
        "\n",
        "- Gauge the relevance and accuracy of responses\n",
        "- Determine if the enhanced pipeline better addresses user intents\n",
        "\n",
        "By focusing on these response quality metrics, we can obtain a comprehensive view of how query enhancement impacts the overall performance of our RAG system.\n",
        "\n",
        "Let's proceed with our evaluation:"
      ]
    },
    {
      "cell_type": "code",
      "execution_count": null,
      "metadata": {
        "id": "BUxUuxNBCUTv"
      },
      "outputs": [],
      "source": [
        "from scripts.response_metrics import LLM_METRICS\n",
        "\n",
        "response_evaluations = weave.Evaluation(\n",
        "    name=\"Response_Evaluation\",\n",
        "    dataset=eval_dataset,\n",
        "    scorers=LLM_METRICS,\n",
        "    preprocess_model_input=lambda x: {\"query\": x[\"question\"]},\n",
        ")\n",
        "\n",
        "baseline_response_scores = asyncio.run(\n",
        "    response_evaluations.evaluate(simple_rag_pipeline)\n",
        ")\n",
        "\n",
        "query_enhanced_response_scores = asyncio.run(\n",
        "    response_evaluations.evaluate(query_enhanced_rag_pipeline)\n",
        ")"
      ]
    },
    {
      "cell_type": "markdown",
      "metadata": {
        "id": "gMNBMov-CUTw"
      },
      "source": [
        "![compare_retriever_responses](https://github.com/wandb/edu/blob/main/rag-advanced/images/04_compare_query_enhanced_responses.png?raw=1)"
      ]
    },
    {
      "cell_type": "markdown",
      "metadata": {
        "id": "U9lWPvRuCUTw"
      },
      "source": [
        "## Evaluation Results: Simple vs. Query-Enhanced RAG Pipelines\n",
        "\n",
        "Our comparison between the SimpleRAGPipeline and QueryEnhancedRAGPipeline reveals interesting insights:\n",
        "\n",
        "### Key Findings:\n",
        "\n",
        "1. **Response Quality**:\n",
        "   - Both pipelines achieved similar correctness scores.\n",
        "   - The SimpleRAGPipeline showed a slightly higher overall response quality score (0.75 vs 0.70).\n",
        "\n",
        "2. **Latency**:\n",
        "   - The QueryEnhancedRAGPipeline exhibited significantly higher latency (21.40s vs 5.74s).\n",
        "   - This increased latency is likely due to the additional processing in query enhancement.\n",
        "\n",
        "3. **Detailed Analysis**:\n",
        "   - A careful examination of individual responses reveals that the QueryEnhancedRAGPipeline often generates more relevant and coherent answers.\n",
        "   - However, these responses tend to be more verbose, which may have led to lower scores from the LLM Judge, which seems to favor conciseness.\n",
        "\n",
        "### Takeaways:\n",
        "\n",
        "1. **Complexity vs. Performance**:\n",
        "   Adding sophisticated features like query enhancement doesn't always lead to immediate improvements in automated metrics. It's crucial to balance complexity with measurable performance gains.\n",
        "\n",
        "2. **Latency Considerations**:\n",
        "   In real-world applications, the significant increase in latency could impact user experience. This highlights the importance of efficiency in RAG system design.\n",
        "\n",
        "3. **Metric Limitations**:\n",
        "   The discrepancy between perceived quality and metric scores underscores the limitations of current evaluation methods. This suggests an opportunity to fine-tune the LLM Judge for more nuanced assessments.\n",
        "\n",
        "4. **Dataset Dependency**:\n",
        "   These observations are specific to our current dataset. The benefits of query enhancement might vary across different types of queries or datasets. It's essential to evaluate RAG improvements on diverse, representative data.\n",
        "\n",
        "5. **Qualitative vs. Quantitative Analysis**:\n",
        "   This evaluation highlights the importance of combining automated metrics with qualitative analysis of individual responses for a comprehensive assessment.\n",
        "\n",
        "6. **Iterative Improvement**:\n",
        "   These results provide a foundation for further refinement. We might explore ways to optimize the query enhancement process, improve response conciseness, or refine our evaluation metrics.\n",
        "\n",
        "This evaluation underscores the complexity of assessing RAG systems and the importance of multi-faceted evaluation approaches. It also demonstrates that improvements in system design may not always be immediately reflected in standard metrics, emphasizing the need for ongoing refinement of both RAG systems and evaluation methodologies."
      ]
    },
    {
      "cell_type": "markdown",
      "metadata": {
        "id": "C-s0cE0ZCUTx"
      },
      "source": [
        "## Key Takeaways\n",
        "\n",
        "1. Query Enhancement Complexity: Advanced techniques like language identification, intent classification, and sub-query generation can significantly improve RAG system sophistication, but also introduce complexity.\n",
        "\n",
        "2. Context-Aware Retrieval: Leveraging sub-queries and intent classification enables more comprehensive and targeted information retrieval.\n",
        "\n",
        "3. Safety and Robustness: Intent-based flow control enhances system safety by appropriately handling off-topic or inappropriate queries.\n",
        "\n",
        "4. Performance Trade-offs: Query enhancement can lead to more relevant responses but may increase latency. Consider the balance between sophistication and efficiency.\n",
        "\n",
        "5. Evaluation Challenges: Standard metrics may not fully capture nuanced improvements in response quality. Combine quantitative and qualitative evaluation methods for comprehensive assessment.\n",
        "\n",
        "6. Iterative Development: RAG system optimization is an ongoing process. Use evaluation results as a foundation for continuous refinement.\n",
        "\n",
        "7. Holistic System Design: Effective RAG systems require careful integration of various components and consideration of their interactions.\n",
        "\n",
        "8. Real-world Application: When implementing advanced RAG techniques, balance theoretical improvements with practical concerns like user experience and system complexity."
      ]
    }
  ],
  "metadata": {
    "kernelspec": {
      "display_name": "rag-edu",
      "language": "python",
      "name": "python3"
    },
    "colab": {
      "provenance": []
    }
  },
  "nbformat": 4,
  "nbformat_minor": 0
}
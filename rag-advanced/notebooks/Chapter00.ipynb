{
  "cells": [
    {
      "cell_type": "markdown",
      "metadata": {
        "id": "view-in-github",
        "colab_type": "text"
      },
      "source": [
        "<a href=\"https://colab.research.google.com/github/chandansingh-tech/rag-advanced/blob/main/rag-advanced/notebooks/Chapter00.ipynb\" target=\"_parent\"><img src=\"https://colab.research.google.com/assets/colab-badge.svg\" alt=\"Open In Colab\"/></a>"
      ]
    },
    {
      "cell_type": "markdown",
      "metadata": {
        "id": "I96E8FSlgEKK"
      },
      "source": [
        "## Chapter 0: Setup\n",
        "\n",
        "<a target=\"_blank\" href=\"https://colab.research.google.com/github/wandb/edu/blob/main/rag-advanced/notebooks/Chapter00.ipynb\">\n",
        "  <img src=\"https://colab.research.google.com/assets/colab-badge.svg\" alt=\"Open In Colab\"/>\n",
        "</a>\n",
        "\n",
        "<!--- @wandbcode{rag-course-00} -->\n",
        "\n",
        "Let's install the required packages and check our setup for this course.\n",
        "\n",
        "### 🎉 Free Cohere API key\n",
        "\n",
        "Before you run this colab notebook, head over to this [link to redeem a free Cohere API key](https://docs.google.com/forms/d/e/1FAIpQLSc9x4nV8_nSQvJnaINO1j9NIa2IUbAJqrKeSllNNCCbMFmCxw/viewform?usp=sf_link).\n",
        "\n",
        "Alternatively if you have a Cohere API key feel free to proceed. :)"
      ]
    },
    {
      "cell_type": "code",
      "execution_count": 1,
      "metadata": {
        "colab": {
          "base_uri": "https://localhost:8080/"
        },
        "id": "bgQoZk6BgEKV",
        "outputId": "d0f7c516-17df-4e20-bac8-1c6bcb8f2373"
      },
      "outputs": [
        {
          "output_type": "stream",
          "name": "stdout",
          "text": [
            "\u001b[?25l   \u001b[90m━━━━━━━━━━━━━━━━━━━━━━━━━━━━━━━━━━━━━━━━\u001b[0m \u001b[32m0.0/336.9 kB\u001b[0m \u001b[31m?\u001b[0m eta \u001b[36m-:--:--\u001b[0m\r\u001b[2K   \u001b[90m━━━━━━━━━━━━━━━━━━━━━━━━━━━━━━━━━━━━━━━━\u001b[0m \u001b[32m336.9/336.9 kB\u001b[0m \u001b[31m10.5 MB/s\u001b[0m eta \u001b[36m0:00:00\u001b[0m\n",
            "\u001b[2K   \u001b[90m━━━━━━━━━━━━━━━━━━━━━━━━━━━━━━━━━━━━━━━━\u001b[0m \u001b[32m250.2/250.2 kB\u001b[0m \u001b[31m14.8 MB/s\u001b[0m eta \u001b[36m0:00:00\u001b[0m\n",
            "\u001b[2K   \u001b[90m━━━━━━━━━━━━━━━━━━━━━━━━━━━━━━━━━━━━━━━━\u001b[0m \u001b[32m586.9/586.9 kB\u001b[0m \u001b[31m26.7 MB/s\u001b[0m eta \u001b[36m0:00:00\u001b[0m\n",
            "\u001b[2K   \u001b[90m━━━━━━━━━━━━━━━━━━━━━━━━━━━━━━━━━━━━━━━━\u001b[0m \u001b[32m3.1/3.1 MB\u001b[0m \u001b[31m53.4 MB/s\u001b[0m eta \u001b[36m0:00:00\u001b[0m\n",
            "\u001b[2K   \u001b[90m━━━━━━━━━━━━━━━━━━━━━━━━━━━━━━━━━━━━━━━━\u001b[0m \u001b[32m325.8/325.8 kB\u001b[0m \u001b[31m21.1 MB/s\u001b[0m eta \u001b[36m0:00:00\u001b[0m\n",
            "\u001b[2K   \u001b[90m━━━━━━━━━━━━━━━━━━━━━━━━━━━━━━━━━━━━━━━━\u001b[0m \u001b[32m203.2/203.2 kB\u001b[0m \u001b[31m13.9 MB/s\u001b[0m eta \u001b[36m0:00:00\u001b[0m\n",
            "\u001b[2K   \u001b[90m━━━━━━━━━━━━━━━━━━━━━━━━━━━━━━━━━━━━━━━━\u001b[0m \u001b[32m74.0/74.0 kB\u001b[0m \u001b[31m5.0 MB/s\u001b[0m eta \u001b[36m0:00:00\u001b[0m\n",
            "\u001b[?25h"
          ]
        }
      ],
      "source": [
        "!pip install -qq weave cohere"
      ]
    },
    {
      "cell_type": "markdown",
      "metadata": {
        "id": "kOB5iFd6gEKY"
      },
      "source": [
        "## 1. Setup Weave\n",
        "\n",
        "\n",
        "The code cell below will prompt you to put in a W&B API key. You can get your API key by heading over to https://wandb.ai/authorize."
      ]
    },
    {
      "cell_type": "code",
      "execution_count": 7,
      "metadata": {
        "id": "k-q92wDmgEKY"
      },
      "outputs": [],
      "source": [
        "# import weave\n",
        "import weave\n",
        "\n",
        "# initialize weave client\n",
        "weave_client = weave.init(\"rag-course\")"
      ]
    },
    {
      "cell_type": "markdown",
      "metadata": {
        "id": "su6C3YIBgEKZ"
      },
      "source": [
        "## 2. Setup Cohere\n",
        "\n",
        "The code cell below will prompt you to put in a Cohere API key."
      ]
    },
    {
      "cell_type": "code",
      "execution_count": 8,
      "metadata": {
        "colab": {
          "base_uri": "https://localhost:8080/"
        },
        "id": "fASmj_mcgEKZ",
        "outputId": "1902f3e7-b543-4e2d-96a5-89deb33fd51b"
      },
      "outputs": [
        {
          "name": "stdout",
          "output_type": "stream",
          "text": [
            "Please enter your COHERE_API_KEY··········\n"
          ]
        }
      ],
      "source": [
        "import getpass\n",
        "\n",
        "import cohere\n",
        "\n",
        "cohere_client = cohere.ClientV2(\n",
        "    api_key=getpass.getpass(\"Please enter your COHERE_API_KEY\")\n",
        ")"
      ]
    },
    {
      "cell_type": "markdown",
      "metadata": {
        "id": "xw_H-iT2gEKa"
      },
      "source": [
        "## A simple-turn chat with Cohere's command-r-plus"
      ]
    },
    {
      "cell_type": "code",
      "execution_count": 9,
      "metadata": {
        "colab": {
          "base_uri": "https://localhost:8080/"
        },
        "id": "CzCsEHrrgEKa",
        "outputId": "1a0ba18c-7567-4b6e-c699-91f43494ffea"
      },
      "outputs": [
        {
          "output_type": "stream",
          "name": "stdout",
          "text": [
            "🍩 https://wandb.ai/chandan-kumr-singh-novus-hi-tech-robotics-systemz-/rag-course/r/call/019454a0-30e8-7dd1-af3b-892060ba721a\n"
          ]
        }
      ],
      "source": [
        "response = cohere_client.chat(\n",
        "    messages=[\n",
        "        {\"role\": \"user\", \"content\": \"What is retrieval augmented generation (RAG)?\"}\n",
        "    ],\n",
        "    model=\"command-r-plus\",\n",
        "    temperature=0.1,\n",
        "    max_tokens=2000,\n",
        ")"
      ]
    },
    {
      "cell_type": "markdown",
      "metadata": {
        "id": "BLPH-TStgEKb"
      },
      "source": [
        "Let's head over to the weave URL to check out the generated response."
      ]
    }
  ],
  "metadata": {
    "colab": {
      "provenance": [],
      "include_colab_link": true
    },
    "kernelspec": {
      "display_name": "Python 3",
      "name": "python3"
    }
  },
  "nbformat": 4,
  "nbformat_minor": 0
}